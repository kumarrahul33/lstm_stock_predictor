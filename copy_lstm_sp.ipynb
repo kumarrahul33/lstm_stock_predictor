{
 "cells": [
  {
   "cell_type": "code",
   "execution_count": 1,
   "metadata": {},
   "outputs": [],
   "source": [
    "import torch\n",
    "import torch.nn as nn\n",
    "from torch.utils.data import DataLoader, TensorDataset\n",
    "import pandas as pd\n",
    "import numpy as np\n",
    "import random\n",
    "import matplotlib.pyplot as plt"
   ]
  },
  {
   "cell_type": "code",
   "execution_count": 2,
   "metadata": {},
   "outputs": [
    {
     "name": "stdout",
     "output_type": "stream",
     "text": [
      "False\n",
      "False\n",
      "         Open     High      Low    Close      MACD        ATR        RSI  \\\n",
      "1900  1283.21  1287.50  1256.98  1276.60 -4.820419  35.887857  30.130064   \n",
      "1901  1302.22  1330.74  1277.16  1330.74 -2.159744  32.133571  41.043854   \n",
      "1902  1334.63  1341.51  1298.42  1298.42 -3.087302  29.425714  33.795734   \n",
      "1903  1299.67  1330.67  1295.22  1329.51 -0.866801  27.663571  39.512096   \n",
      "1904  1333.66  1359.68  1330.29  1349.88 -0.276945  26.217143  55.488315   \n",
      "\n",
      "      EFFR        VIX       USDX  UNRATE  UMCSENT  \n",
      "1900  2.69  32.240002  71.459999     5.1     69.5  \n",
      "1901  2.16  25.790001  71.570000     5.1     69.5  \n",
      "1902  2.08  29.840000  72.139999     5.1     69.5  \n",
      "1903  2.22  26.620001  72.750000     5.1     69.5  \n",
      "1904  2.08  25.730000  72.949997     5.1     69.5  \n"
     ]
    }
   ],
   "source": [
    "def scale_data(data):\n",
    "    num_features = data.shape[1]\n",
    "    scale_params = np.zeros((num_features,2))\n",
    "    mins = np.min(data, axis=0);maxes=np.max(data, axis=0)\n",
    "    data = (data - mins) / (maxes - mins)\n",
    "    return data, scale_params\n",
    "\n",
    "data_df = pd.read_csv(\"data/final_dataset.csv\")\n",
    "\n",
    "data_df = data_df.drop(['Date'], axis=1)\n",
    "data_df = data_df.iloc[1900:,:]\n",
    "data = np.nan_to_num(np.array(data_df, dtype=np.float32))\n",
    "print(np.isnan(data).any().item())\n",
    "data, scale_params = scale_data(data)\n",
    "print(np.isnan(data).any().item())\n",
    "data, scale_params = scale_data(np.nan_to_num(np.array(data_df, dtype=np.float32)))\n",
    "print(data_df.head())\n",
    "\n",
    "# print(data.shape)"
   ]
  },
  {
   "cell_type": "code",
   "execution_count": 12,
   "metadata": {},
   "outputs": [
    {
     "name": "stdout",
     "output_type": "stream",
     "text": [
      "[[0.14725697 0.14362836 0.14348508 ... 0.6262378  0.34693876 0.6854043 ]\n",
      " [0.15186056 0.15411496 0.14839119 ... 0.6272018  0.34693876 0.6854043 ]\n",
      " [0.15970922 0.15672693 0.15355985 ... 0.632197   0.34693876 0.6854043 ]\n",
      " ...\n",
      " [0.8933593  0.90284836 0.89626205 ... 0.         0.         0.        ]\n",
      " [0.9036539  0.9037529  0.9061034  ... 0.         0.         0.        ]\n",
      " [0.9163217  0.9248305  0.92194253 ... 0.         0.         0.        ]]\n",
      "         Open     High      Low    Close       MACD        ATR        RSI  \\\n",
      "1900  1283.21  1287.50  1256.98  1276.60  -4.820419  35.887857  30.130064   \n",
      "1901  1302.22  1330.74  1277.16  1330.74  -2.159744  32.133571  41.043854   \n",
      "1902  1334.63  1341.51  1298.42  1298.42  -3.087302  29.425714  33.795734   \n",
      "1903  1299.67  1330.67  1295.22  1329.51  -0.866801  27.663571  39.512096   \n",
      "1904  1333.66  1359.68  1330.29  1349.88  -0.276945  26.217143  55.488315   \n",
      "...       ...      ...      ...      ...        ...        ...        ...   \n",
      "5840  4384.37  4391.20  4359.76  4382.78 -14.347386        NaN        NaN   \n",
      "5841  4391.41  4393.40  4343.94  4347.35 -13.856403        NaN        NaN   \n",
      "5842  4364.15  4418.03  4353.34  4415.24  -8.206984        NaN        NaN   \n",
      "5843  4406.66  4421.76  4393.82  4411.55  -5.370256        NaN        NaN   \n",
      "5844  4458.97  4508.67  4458.97  4495.70   0.000000        NaN        NaN   \n",
      "\n",
      "      EFFR        VIX       USDX  UNRATE  UMCSENT  \n",
      "1900  2.69  32.240002  71.459999     5.1     69.5  \n",
      "1901  2.16  25.790001  71.570000     5.1     69.5  \n",
      "1902  2.08  29.840000  72.139999     5.1     69.5  \n",
      "1903  2.22  26.620001  72.750000     5.1     69.5  \n",
      "1904  2.08  25.730000  72.949997     5.1     69.5  \n",
      "...    ...        ...        ...     ...      ...  \n",
      "5840   NaN        NaN        NaN     NaN      NaN  \n",
      "5841   NaN        NaN        NaN     NaN      NaN  \n",
      "5842   NaN        NaN        NaN     NaN      NaN  \n",
      "5843   NaN        NaN        NaN     NaN      NaN  \n",
      "5844   NaN        NaN        NaN     NaN      NaN  \n",
      "\n",
      "[3945 rows x 12 columns]\n"
     ]
    }
   ],
   "source": [
    "print(data)\n",
    "print(data.shape)\n",
    "print(data_df)"
   ]
  },
  {
   "cell_type": "code",
   "execution_count": 3,
   "metadata": {},
   "outputs": [
    {
     "name": "stdout",
     "output_type": "stream",
     "text": [
      "torch.Size([3148, 8, 12]) torch.Size([788, 8, 12])\n"
     ]
    }
   ],
   "source": [
    "def create_sequence(data,seq_len):\n",
    "    xs = []\n",
    "    ys = []\n",
    "    for i in range(len(data)-seq_len-1):\n",
    "        x = data[i:(i+seq_len),:]\n",
    "        # print(x.shape)\n",
    "        y = data[i+seq_len,0]\n",
    "        xs.append(x)\n",
    "        ys.append(y)\n",
    "    return np.array(xs),np.array(ys)\n",
    "\n",
    "SEQ_LEN = 8\n",
    "inputs , targets = create_sequence(data,SEQ_LEN)\n",
    "\n",
    "inputs=torch.from_numpy(inputs);targets=torch.from_numpy(targets)\n",
    "\n",
    "# split the input data into train and test data\n",
    "train_size = int(0.8 * len(inputs))\n",
    "test_size = len(inputs) - train_size\n",
    "train_inputs, test_inputs = inputs[:train_size], inputs[train_size:]\n",
    "train_targets, test_targets = targets[:train_size], targets[train_size:]\n",
    "print(train_inputs.shape, test_inputs.shape)"
   ]
  },
  {
   "cell_type": "code",
   "execution_count": 4,
   "metadata": {},
   "outputs": [],
   "source": [
    "\n",
    "class PricePredictor(nn.Module):\n",
    "    def __init__(self, input_size=12, hidden_layer_size=150, time_segment=5, output_size=1):\n",
    "        super().__init__()\n",
    "        self.hidden_layer_size = hidden_layer_size\n",
    "        self.time_segment_length = time_segment\n",
    "        self.lstm = nn.LSTM(input_size, hidden_layer_size,batch_first=True) # N x L x input_size(12)\n",
    "        self.linear = nn.Linear(hidden_layer_size, output_size) # N x L x output_size(1)\n",
    "        self.ReLU = nn.ReLU()\n",
    "        self.cell_double = None\n",
    "\n",
    "    def forward(self, input_seq):\n",
    "        '''\n",
    "            input : N x L x input_size\n",
    "            ouput : N x output_size\n",
    "        '''\n",
    "        output,_ = self.lstm(input_seq) # N x L x hidden_layer_size\n",
    "        output = self.ReLU(output)\n",
    "        predictions = self.linear(output[:,-1,:].squeeze()) # N x output_size\n",
    "        return predictions, output[:,-1,:].squeeze()\n"
   ]
  },
  {
   "cell_type": "code",
   "execution_count": 5,
   "metadata": {},
   "outputs": [],
   "source": [
    "class QLearningModel(nn.Module):\n",
    "    def __init__(self, hidden_layer_size, num_actions):\n",
    "        super(QLearningModel, self).__init__()\n",
    "        self.fc = nn.Linear(hidden_layer_size, num_actions)\n",
    "\n",
    "    def forward(self, hidden_state):\n",
    "        return self.fc(hidden_state)"
   ]
  },
  {
   "cell_type": "code",
   "execution_count": 6,
   "metadata": {},
   "outputs": [
    {
     "name": "stdout",
     "output_type": "stream",
     "text": [
      "torch.Size([3148, 8, 12]) torch.Size([3148])\n",
      "torch.Size([788, 8, 12]) torch.Size([788])\n"
     ]
    }
   ],
   "source": [
    "BATCH_SIZE = 16 \n",
    "print(train_inputs.shape,train_targets.shape)\n",
    "print(test_inputs.shape,test_targets.shape)\n",
    "train_dataset = TensorDataset(train_inputs, train_targets)\n",
    "test_dataset = TensorDataset(test_inputs, test_targets)\n",
    "\n",
    "train_loader = DataLoader(dataset=train_dataset, batch_size=BATCH_SIZE, shuffle=False)\n",
    "test_loader = DataLoader(dataset=test_dataset, batch_size=BATCH_SIZE, shuffle=False)\n",
    "\n"
   ]
  },
  {
   "cell_type": "code",
   "execution_count": 7,
   "metadata": {},
   "outputs": [],
   "source": [
    "def test_dataloaders(train_dataset,test_dataset,num_itr = 10):\n",
    "    for i, (inputs, targets) in enumerate(train_loader):\n",
    "        print(\"train itr\",inputs.shape, targets.shape)\n",
    "        if i >= num_itr:\n",
    "            break\n",
    "    for i, (inputs, targets) in enumerate(test_loader):\n",
    "        print(\"test_itr\",inputs.shape, targets.shape)\n",
    "        if i >= num_itr:\n",
    "            break\n",
    "# test_dataloaders(train_dataset,test_dataset)"
   ]
  },
  {
   "cell_type": "code",
   "execution_count": 9,
   "metadata": {},
   "outputs": [],
   "source": [
    "\n",
    "\n",
    "\n",
    "def calculate_reward(action, current_price, previous_price, holding_status, transaction_cost=0.00):\n",
    "    \"\"\"\n",
    "    Calculate the reward for an action.\n",
    "    \n",
    "    :param action: The action taken by the agent (0: Hold, 1: Buy, 2: Sell)\n",
    "    :param current_price: Current stock price.\n",
    "    :param previous_price: Previous stock price.\n",
    "    :param holding_status: Whether the agent is currently holding a stock (1) or not (0).\n",
    "    :param transaction_cost: Cost of making a transaction, as a percentage of trade value.\n",
    "    \n",
    "    :return: Calculated reward.\n",
    "    \"\"\"\n",
    "    if action == 1:  # Buy\n",
    "        if holding_status == 0:  # If not already holding\n",
    "            reward = -transaction_cost  # Pay transaction cost\n",
    "            holding_status = 1  # Update holding status\n",
    "        else:\n",
    "            reward = 0  # No action taken, no reward\n",
    "\n",
    "    elif action == 2:  # Sell\n",
    "        if holding_status == 1:  # If holding a stock\n",
    "            profit = current_price - previous_price\n",
    "            reward = profit - (transaction_cost * current_price)  # Gain from selling minus transaction cost\n",
    "            holding_status = 0  # Update holding status\n",
    "        else:\n",
    "            reward = 0  # No action taken, no reward\n",
    "\n",
    "    else:  # Hold\n",
    "        if holding_status == 1:  # If holding a stock\n",
    "            reward = current_price - previous_price  # Unrealized gain/loss\n",
    "        else:\n",
    "            reward = 0  # No stock held, no reward\n",
    "\n",
    "    return reward, holding_status"
   ]
  },
  {
   "cell_type": "code",
   "execution_count": 10,
   "metadata": {},
   "outputs": [
    {
     "ename": "RuntimeError",
     "evalue": "Boolean value of Tensor with more than one value is ambiguous",
     "output_type": "error",
     "traceback": [
      "\u001b[0;31m---------------------------------------------------------------------------\u001b[0m",
      "\u001b[0;31mRuntimeError\u001b[0m                              Traceback (most recent call last)",
      "\u001b[1;32m/home/kanad/aiml_project/copy_lstm_sp.ipynb Cell 9\u001b[0m line \u001b[0;36m1\n\u001b[1;32m     <a href='vscode-notebook-cell://wsl%2Bubuntu20.04lts/home/kanad/aiml_project/copy_lstm_sp.ipynb#W6sdnNjb2RlLXJlbW90ZQ%3D%3D?line=13'>14</a>\u001b[0m q_values \u001b[39m=\u001b[39m ql_model(hidden_states)\n\u001b[1;32m     <a href='vscode-notebook-cell://wsl%2Bubuntu20.04lts/home/kanad/aiml_project/copy_lstm_sp.ipynb#W6sdnNjb2RlLXJlbW90ZQ%3D%3D?line=14'>15</a>\u001b[0m actions \u001b[39m=\u001b[39m torch\u001b[39m.\u001b[39margmax(q_values, dim\u001b[39m=\u001b[39m\u001b[39m1\u001b[39m)\n\u001b[0;32m---> <a href='vscode-notebook-cell://wsl%2Bubuntu20.04lts/home/kanad/aiml_project/copy_lstm_sp.ipynb#W6sdnNjb2RlLXJlbW90ZQ%3D%3D?line=15'>16</a>\u001b[0m rewards, holding_status \u001b[39m=\u001b[39m calculate_reward(actions, price_predictions, targets, holding_status, transaction_cost\u001b[39m=\u001b[39;49m\u001b[39m0.00\u001b[39;49m)\n\u001b[1;32m     <a href='vscode-notebook-cell://wsl%2Bubuntu20.04lts/home/kanad/aiml_project/copy_lstm_sp.ipynb#W6sdnNjb2RlLXJlbW90ZQ%3D%3D?line=16'>17</a>\u001b[0m optimizer\u001b[39m.\u001b[39mzero_grad()\n\u001b[1;32m     <a href='vscode-notebook-cell://wsl%2Bubuntu20.04lts/home/kanad/aiml_project/copy_lstm_sp.ipynb#W6sdnNjb2RlLXJlbW90ZQ%3D%3D?line=17'>18</a>\u001b[0m loss \u001b[39m=\u001b[39m loss_function(price_predictions, targets)\n",
      "\u001b[1;32m/home/kanad/aiml_project/copy_lstm_sp.ipynb Cell 9\u001b[0m line \u001b[0;36m1\n\u001b[1;32m      <a href='vscode-notebook-cell://wsl%2Bubuntu20.04lts/home/kanad/aiml_project/copy_lstm_sp.ipynb#W6sdnNjb2RlLXJlbW90ZQ%3D%3D?line=0'>1</a>\u001b[0m \u001b[39mdef\u001b[39;00m \u001b[39mcalculate_reward\u001b[39m(action, current_price, previous_price, holding_status, transaction_cost\u001b[39m=\u001b[39m\u001b[39m0.00\u001b[39m):\n\u001b[1;32m      <a href='vscode-notebook-cell://wsl%2Bubuntu20.04lts/home/kanad/aiml_project/copy_lstm_sp.ipynb#W6sdnNjb2RlLXJlbW90ZQ%3D%3D?line=1'>2</a>\u001b[0m     \u001b[39m\"\"\"\u001b[39;00m\n\u001b[1;32m      <a href='vscode-notebook-cell://wsl%2Bubuntu20.04lts/home/kanad/aiml_project/copy_lstm_sp.ipynb#W6sdnNjb2RlLXJlbW90ZQ%3D%3D?line=2'>3</a>\u001b[0m \u001b[39m    Calculate the reward for an action.\u001b[39;00m\n\u001b[1;32m      <a href='vscode-notebook-cell://wsl%2Bubuntu20.04lts/home/kanad/aiml_project/copy_lstm_sp.ipynb#W6sdnNjb2RlLXJlbW90ZQ%3D%3D?line=3'>4</a>\u001b[0m \u001b[39m    \u001b[39;00m\n\u001b[0;32m   (...)\u001b[0m\n\u001b[1;32m     <a href='vscode-notebook-cell://wsl%2Bubuntu20.04lts/home/kanad/aiml_project/copy_lstm_sp.ipynb#W6sdnNjb2RlLXJlbW90ZQ%3D%3D?line=10'>11</a>\u001b[0m \u001b[39m    :return: Calculated reward.\u001b[39;00m\n\u001b[1;32m     <a href='vscode-notebook-cell://wsl%2Bubuntu20.04lts/home/kanad/aiml_project/copy_lstm_sp.ipynb#W6sdnNjb2RlLXJlbW90ZQ%3D%3D?line=11'>12</a>\u001b[0m \u001b[39m    \"\"\"\u001b[39;00m\n\u001b[0;32m---> <a href='vscode-notebook-cell://wsl%2Bubuntu20.04lts/home/kanad/aiml_project/copy_lstm_sp.ipynb#W6sdnNjb2RlLXJlbW90ZQ%3D%3D?line=12'>13</a>\u001b[0m     \u001b[39mif\u001b[39;00m action \u001b[39m==\u001b[39m \u001b[39m1\u001b[39m:  \u001b[39m# Buy\u001b[39;00m\n\u001b[1;32m     <a href='vscode-notebook-cell://wsl%2Bubuntu20.04lts/home/kanad/aiml_project/copy_lstm_sp.ipynb#W6sdnNjb2RlLXJlbW90ZQ%3D%3D?line=13'>14</a>\u001b[0m         \u001b[39mif\u001b[39;00m holding_status \u001b[39m==\u001b[39m \u001b[39m0\u001b[39m:  \u001b[39m# If not already holding\u001b[39;00m\n\u001b[1;32m     <a href='vscode-notebook-cell://wsl%2Bubuntu20.04lts/home/kanad/aiml_project/copy_lstm_sp.ipynb#W6sdnNjb2RlLXJlbW90ZQ%3D%3D?line=14'>15</a>\u001b[0m             reward \u001b[39m=\u001b[39m \u001b[39m-\u001b[39mtransaction_cost  \u001b[39m# Pay transaction cost\u001b[39;00m\n",
      "\u001b[0;31mRuntimeError\u001b[0m: Boolean value of Tensor with more than one value is ambiguous"
     ]
    }
   ],
   "source": [
    "\n",
    "model = PricePredictor()\n",
    "ql_model = QLearningModel(hidden_layer_size=150, num_actions=3)  # 3 actions: Buy, Sell, Hold\n",
    "loss_function = nn.MSELoss()\n",
    "optimizer = torch.optim.Adagrad(model.parameters(), lr=0.001)\n",
    "ql_optimizer = torch.optim.Adam(ql_model.parameters(), lr=0.001)\n",
    "\n",
    "epochs = 30\n",
    "holding_status = 0\n",
    "for i in range(epochs):\n",
    "    for seq, targets in train_loader:\n",
    "\n",
    "        # seq, targets = seq.to(device), targets.to(device)\n",
    "        price_predictions, hidden_states = model(seq)\n",
    "        q_values = ql_model(hidden_states)\n",
    "        actions = torch.argmax(q_values, dim=1)\n",
    "        rewards = torch.Tensor(size=len(actions))\n",
    "        for j in range(len(actions)):\n",
    "            rewards[j], holding_status[j] = calculate_reward(actions[j], price_predictions[j], targets[j], holding_status[j], transaction_cost=0.00)\n",
    "        optimizer.zero_grad()\n",
    "        loss = loss_function(price_predictions, targets)\n",
    "        loss.backward()\n",
    "        optimizer.step()\n",
    "        ql_optimizer.zero_grad()\n",
    "        # ql_loss = torch.tensor(rewards).to(device)  # Placeholder for actual Q-learning loss calculation\n",
    "        ql_loss = torch.tensor(rewards)  # Placeholder for actual Q-learning loss calculation\n",
    "        ql_loss.backward()\n",
    "        ql_optimizer.step()\n",
    "\n",
    "\n",
    "    if(i%5==0):\n",
    "        # print the test loss\n",
    "        with torch.no_grad():\n",
    "            test_loss_ = 0\n",
    "            test_reward_ = 0\n",
    "            for seq_, targets_ in test_loader:\n",
    "                y_pred_test, hidden_states_ = model(seq_)\n",
    "                q_values_ = ql_model(hidden_states_)\n",
    "                test_loss_ += loss_function(y_pred_test, targets_)\n",
    "                test_reward_ += torch.tensor(rewards)\n",
    "\n",
    "                # print(y_pred_test.shape)\n",
    "            print(f'Test loss: {test_loss_.item():10.8f}')\n",
    "            print(f'Test loss: {test_reward_.item():10.8f}')\n",
    "    "
   ]
  },
  {
   "cell_type": "code",
   "execution_count": null,
   "metadata": {},
   "outputs": [
    {
     "data": {
      "image/png": "[encoded data removed]",
      "text/plain": [
       "<Figure size 432x288 with 1 Axes>"
      ]
     },
     "metadata": {
      "needs_background": "light"
     },
     "output_type": "display_data"
    }
   ],
   "source": [
    "actual_prices = []\n",
    "predictions = []\n",
    "with torch.no_grad():\n",
    "    test_loss = 0\n",
    "    for seq, targets in test_loader:\n",
    "        y_pred = model(seq)\n",
    "        actual_prices.extend(targets.flatten())\n",
    "        predictions.extend(y_pred.flatten())\n",
    "\n",
    "\n",
    "actual_prices = np.array(actual_prices)\n",
    "predictions = np.array(predictions)\n",
    "x = np.arange(len(actual_prices))\n",
    "\n",
    "plt.plot(x,actual_prices, label=\"actual\")\n",
    "plt.plot(x,predictions, label=\"predictions\")\n",
    "plt.legend()\n",
    "plt.show()\n"
   ]
  },
  {
   "cell_type": "code",
   "execution_count": null,
   "metadata": {},
   "outputs": [],
   "source": []
  }
 ],
 "metadata": {
  "kernelspec": {
   "display_name": "Python 3 (ipykernel)",
   "language": "python",
   "name": "python3"
  },
  "language_info": {
   "codemirror_mode": {
    "name": "ipython",
    "version": 3
   },
   "file_extension": ".py",
   "mimetype": "text/x-python",
   "name": "python",
   "nbconvert_exporter": "python",
   "pygments_lexer": "ipython3",
   "version": "3.8.10"
  }
 },
 "nbformat": 4,
 "nbformat_minor": 4
}
