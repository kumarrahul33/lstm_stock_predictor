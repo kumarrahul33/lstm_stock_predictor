{
 "cells": [
  {
   "cell_type": "code",
   "execution_count": null,
   "metadata": {},
   "outputs": [],
   "source": [
    "import torch\n",
    "import torch.nn as nn\n",
    "from torch.utils.data import DataLoader, TensorDataset\n",
    "import pandas as pd\n",
    "import numpy as np\n",
    "import random\n",
    "import matplotlib.pyplot as plt"
   ]
  },
  {
   "cell_type": "code",
   "execution_count": null,
   "metadata": {},
   "outputs": [],
   "source": [
    "def scale_data(data):\n",
    "    num_features = data.shape[1]\n",
    "    scale_params = np.zeros((num_features,2))\n",
    "    mins = np.min(data, axis=0);maxes=np.max(data, axis=0)\n",
    "    data = (data - mins) / (maxes - mins)\n",
    "    return data, scale_params\n",
    "\n",
    "data_df = pd.read_csv(\"data/final_dataset.csv\")\n",
    "\n",
    "data_df = data_df.drop(['Date'], axis=1)\n",
    "data_df = data_df.iloc[1900:,:]\n",
    "data = np.nan_to_num(np.array(data_df, dtype=np.float32))\n",
    "print(np.isnan(data).any().item())\n",
    "data, scale_params = scale_data(data)\n",
    "print(np.isnan(data).any().item())\n",
    "data, scale_params = scale_data(np.nan_to_num(np.array(data_df, dtype=np.float32)))\n",
    "print(data_df.head())\n",
    "# print(data.shape)"
   ]
  },
  {
   "cell_type": "code",
   "execution_count": null,
   "metadata": {},
   "outputs": [],
   "source": [
    "def create_sequence(data,seq_len):\n",
    "    xs = []\n",
    "    ys = []\n",
    "    for i in range(len(data)-seq_len-1):\n",
    "        x = data[i:(i+seq_len),:]\n",
    "        # print(x.shape)\n",
    "        y = data[i+seq_len,0]\n",
    "        xs.append(x)\n",
    "        ys.append(y)\n",
    "    return np.array(xs),np.array(ys)\n",
    "\n",
    "SEQ_LEN = 8\n",
    "inputs , targets = create_sequence(data,SEQ_LEN)\n",
    "inputs=torch.from_numpy(inputs);targets=torch.from_numpy(targets)\n",
    "\n",
    "# split the input data into train and test data\n",
    "train_size = int(0.8 * len(inputs))\n",
    "test_size = len(inputs) - train_size\n",
    "train_inputs, test_inputs = inputs[:train_size], inputs[train_size:]\n",
    "train_targets, test_targets = targets[:train_size], targets[train_size:]\n",
    "print(train_inputs.shape, test_inputs.shape)"
   ]
  },
  {
   "cell_type": "code",
   "execution_count": null,
   "metadata": {},
   "outputs": [],
   "source": [
    "\n",
    "class PricePredictor(nn.Module):\n",
    "    def __init__(self, input_size=12, hidden_layer_size=150, time_segment=5, output_size=1):\n",
    "        super().__init__()\n",
    "        self.hidden_layer_size = hidden_layer_size\n",
    "        self.time_segment_length = time_segment\n",
    "        self.lstm = nn.LSTM(input_size, hidden_layer_size,batch_first=True) # N x L x input_size(12)\n",
    "        self.linear = nn.Linear(hidden_layer_size, output_size) # N x L x output_size(1)\n",
    "        self.ReLU = nn.ReLU()\n",
    "        self.cell_double = None\n",
    "\n",
    "    def forward(self, input_seq):\n",
    "        '''\n",
    "            input : N x L x input_size\n",
    "            ouput : N x output_size\n",
    "        '''\n",
    "        output,_ = self.lstm(input_seq) # N x L x hidden_layer_size\n",
    "        output = self.ReLU(output)\n",
    "        predictions = self.linear(output[:,-1,:].squeeze()) # N x output_size\n",
    "        return predictions\n"
   ]
  },
  {
   "cell_type": "code",
   "execution_count": null,
   "metadata": {},
   "outputs": [],
   "source": [
    "BATCH_SIZE = 16 \n",
    "print(train_inputs.shape,train_targets.shape)\n",
    "print(test_inputs.shape,test_targets.shape)\n",
    "train_dataset = TensorDataset(train_inputs, train_targets)\n",
    "test_dataset = TensorDataset(test_inputs, test_targets)\n",
    "\n",
    "train_loader = DataLoader(dataset=train_dataset, batch_size=BATCH_SIZE, shuffle=False)\n",
    "test_loader = DataLoader(dataset=test_dataset, batch_size=BATCH_SIZE, shuffle=False)\n",
    "\n"
   ]
  },
  {
   "cell_type": "code",
   "execution_count": null,
   "metadata": {},
   "outputs": [],
   "source": [
    "def test_dataloaders(train_dataset,test_dataset,num_itr = 10):\n",
    "    for i, (inputs, targets) in enumerate(train_loader):\n",
    "        print(\"train itr\",inputs.shape, targets.shape)\n",
    "        if i >= num_itr:\n",
    "            break\n",
    "    for i, (inputs, targets) in enumerate(test_loader):\n",
    "        print(\"test_itr\",inputs.shape, targets.shape)\n",
    "        if i >= num_itr:\n",
    "            break\n",
    "# test_dataloaders(train_dataset,test_dataset)"
   ]
  },
  {
   "cell_type": "code",
   "execution_count": null,
   "metadata": {},
   "outputs": [],
   "source": [
    "\n",
    "model = PricePredictor()\n",
    "loss_function = nn.MSELoss()\n",
    "optimizer = torch.optim.Adagrad(model.parameters(), lr=0.001)\n",
    "\n",
    "epochs = 30\n",
    "\n",
    "for i in range(epochs):\n",
    "    for seq, targets in train_loader:\n",
    "        optimizer.zero_grad()\n",
    "        y_pred = model(seq)\n",
    "        single_loss = loss_function(y_pred, targets)\n",
    "        single_loss.backward()\n",
    "        optimizer.step()\n",
    "\n",
    "    if(i%5==0):\n",
    "        # print the test loss\n",
    "        with torch.no_grad():\n",
    "            test_loss_ = 0\n",
    "            for seq_, targets_ in test_loader:\n",
    "                y_pred_test = model(seq_)\n",
    "                test_loss_ += loss_function(y_pred_test, targets_)\n",
    "                print(y_pred_test.shape)\n",
    "            print(f'Test loss: {test_loss_.item():10.8f}')\n",
    "    "
   ]
  },
  {
   "cell_type": "code",
   "execution_count": null,
   "metadata": {},
   "outputs": [],
   "source": [
    "actual_prices = []\n",
    "predictions = []\n",
    "with torch.no_grad():\n",
    "    test_loss = 0\n",
    "    for seq, targets in test_loader:\n",
    "        y_pred = model(seq)\n",
    "        actual_prices.extend(targets.flatten())\n",
    "        predictions.extend(y_pred.flatten())\n",
    "\n",
    "\n",
    "actual_prices = np.array(actual_prices)\n",
    "predictions = np.array(predictions)\n",
    "x = np.arange(len(actual_prices))\n",
    "\n",
    "plt.plot(x,actual_prices, label=\"actual\")\n",
    "plt.plot(x,predictions, label=\"predictions\")\n",
    "plt.legend()\n",
    "plt.show()\n"
   ]
  },
  {
   "cell_type": "code",
   "execution_count": null,
   "metadata": {},
   "outputs": [],
   "source": []
  }
 ],
 "metadata": {
  "kernelspec": {
   "display_name": "Python 3 (ipykernel)",
   "language": "python",
   "name": "python3"
  },
  "language_info": {
   "codemirror_mode": {
    "name": "ipython",
    "version": 3
   },
   "file_extension": ".py",
   "mimetype": "text/x-python",
   "name": "python",
   "nbconvert_exporter": "python",
   "pygments_lexer": "ipython3",
   "version": "3.9.2"
  }
 },
 "nbformat": 4,
 "nbformat_minor": 4
}
