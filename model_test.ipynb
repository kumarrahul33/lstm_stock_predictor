{
 "cells": [
  {
   "cell_type": "code",
   "execution_count": 1,
   "metadata": {},
   "outputs": [],
   "source": [
    "# DATA Segment\n",
    "import torch\n",
    "import torch.nn as nn\n",
    "from torch.utils.data import DataLoader, TensorDataset\n",
    "import pandas as pd\n",
    "import numpy as np\n",
    "import random\n",
    "import matplotlib.pyplot as plt\n",
    "from scaler import StandardScalerLSTM\n",
    "\n",
    "SEQ_LEN = 8\n",
    "BATCH_SIZE = 16\n",
    "FEATURE_SIZE = 9 \n",
    "# DECAY_RATE = 0.99"
   ]
  },
  {
   "cell_type": "code",
   "execution_count": 2,
   "metadata": {},
   "outputs": [
    {
     "name": "stdout",
     "output_type": "stream",
     "text": [
      "CUDA is available! You can use the GPU.\n"
     ]
    }
   ],
   "source": [
    "# Check if CUDA (GPU support) is available\n",
    "device = 'cpu'\n",
    "if torch.cuda.is_available():\n",
    "    print(\"CUDA is available! You can use the GPU.\")\n",
    "    device = 'cuda'\n",
    "else:\n",
    "    print(\"CUDA is not available. You'll be using CPU.\")\n"
   ]
  },
  {
   "cell_type": "code",
   "execution_count": 3,
   "metadata": {},
   "outputs": [],
   "source": [
    "data_df = pd.read_csv(\"data/final_dataset.csv\")\n",
    "\n",
    "# date drop\n",
    "# data_df = data_df.drop(['Date'], axis=1)\n",
    "# data_df = data_df.iloc[1900:,:]\n",
    "data = np.nan_to_num(np.array(data_df, dtype=np.float32))\n",
    "\n",
    "# ====================== Scaler ========================\n",
    "\n",
    "# Scaler\n",
    "minmax_scaler = StandardScalerLSTM(batch_size=BATCH_SIZE, sequence_length=SEQ_LEN, device=device)\n",
    "minmax_scaler.fit(data)\n",
    "\n",
    "# ====================== Scaler ========================\n",
    "def create_sequence(data,seq_len):\n",
    "    xs = []\n",
    "    ys = []\n",
    "    for i in range(len(data)-seq_len-1):\n",
    "        x = data[i:(i+seq_len),:]\n",
    "        # print(x.shape)\n",
    "        y = data[i+seq_len,0]\n",
    "        xs.append(x)\n",
    "        ys.append(y)\n",
    "    return np.array(xs),np.array(ys)\n",
    "\n",
    "inputs , targets = create_sequence(data,SEQ_LEN)\n",
    "inputs=torch.from_numpy(inputs);targets=torch.from_numpy(targets)"
   ]
  },
  {
   "cell_type": "code",
   "execution_count": 4,
   "metadata": {},
   "outputs": [
    {
     "name": "stdout",
     "output_type": "stream",
     "text": [
      "torch.Size([3542, 8, 12]) torch.Size([394, 8, 12])\n"
     ]
    }
   ],
   "source": [
    "# split the input data into train and test data\n",
    "train_size = int(0.9 * len(inputs))\n",
    "test_size = len(inputs) - train_size\n",
    "train_inputs, test_inputs = inputs[:train_size], inputs[train_size:]\n",
    "train_targets, test_targets = targets[:train_size], targets[train_size:]\n",
    "print(train_inputs.shape, test_inputs.shape)"
   ]
  },
  {
   "cell_type": "code",
   "execution_count": 5,
   "metadata": {},
   "outputs": [],
   "source": [
    "\n",
    "# ====================== Model ======================== \n",
    "class PricePredictor(nn.Module):\n",
    "    def __init__(self,scaler,batch_size, input_size=FEATURE_SIZE, hidden_layer_size=150, time_segment=5, output_size=1):\n",
    "        super().__init__()\n",
    "        self.scaler = scaler\n",
    "        self.hidden_layer_size = hidden_layer_size\n",
    "        self.time_segment_length = time_segment\n",
    "        self.lstm = nn.LSTM(input_size, hidden_layer_size,batch_first=True) # N x L x input_size(12)\n",
    "        self.linear = nn.Linear(hidden_layer_size, output_size) # N x L x output_size(1)\n",
    "        self.ReLU = nn.ReLU()\n",
    "        # self.sigmoid = nn.Sigmoid()\n",
    "        # cell double is zeros vector of shape ((1, batch_size, hidden_layer_size), (1, batch_size, hidden_layer_size))\n",
    "        self.cell_double =   (torch.zeros(1,batch_size,hidden_layer_size,requires_grad=False).to(device),\n",
    "                              torch.zeros(1,batch_size,hidden_layer_size,requires_grad=False).to(device))\n",
    "        self.remember = False \n",
    "\n",
    "    def forward(self, input_seq):\n",
    "        '''\n",
    "            input : N x L x input_size\n",
    "            ouput : N x output_size\n",
    "        '''\n",
    "        input_seq = self.scaler(input_seq)\n",
    "\n",
    "        if self.remember:\n",
    "            output,self.cell_double = self.lstm(input_seq,self.cell_double) # N x L x hidden_layer_size\n",
    "        else:\n",
    "            output,_ = self.lstm(input_seq) # N x L x hidden_layer_size\n",
    "\n",
    "        # non-linear activation function\n",
    "        output = self.ReLU(output)\n",
    "        # output = self.sigmoid(output)\n",
    "        self.cell_double = (self.cell_double[0].detach(),self.cell_double[1].detach())\n",
    "        predictions = self.linear(output[:,-1,:].squeeze()) # N x output_size\n",
    "        predictions = self.scaler.inverse_transform(predictions)\n",
    "        return predictions\n",
    "\n",
    "# ====================== Model ========================"
   ]
  },
  {
   "cell_type": "code",
   "execution_count": 6,
   "metadata": {},
   "outputs": [],
   "source": [
    "def early_stopping(losses, patience=3):\n",
    "    return patience < len(losses) and all([losses[-i-1] > losses[-i-2] for i in range(patience)])\n"
   ]
  },
  {
   "cell_type": "code",
   "execution_count": 7,
   "metadata": {},
   "outputs": [
    {
     "name": "stderr",
     "output_type": "stream",
     "text": [
      "/home/kanad/.local/lib/python3.8/site-packages/torch/nn/modules/loss.py:535: UserWarning: Using a target size (torch.Size([16])) that is different to the input size (torch.Size([16, 1])). This will likely lead to incorrect results due to broadcasting. Please ensure they have the same size.\n",
      "  return F.mse_loss(input, target, reduction=self.reduction)\n"
     ]
    },
    {
     "name": "stdout",
     "output_type": "stream",
     "text": [
      "Test loss: 6733799.00000000\n",
      "Test loss: 3395693.25000000\n",
      "Test loss: 1809563.25000000\n",
      "Test loss: 1557957.62500000\n",
      "Test loss: 1272083.00000000\n",
      "Test loss: 929394.25000000\n",
      "Test loss: 648355.31250000\n",
      "Test loss: 501097.00000000\n",
      "Test loss: 446845.37500000\n",
      "Test loss: 439113.84375000\n",
      "Test loss: 460166.62500000\n",
      "Test loss: 495464.59375000\n",
      "Test loss: 529630.31250000\n"
     ]
    },
    {
     "data": {
      "image/png": "[encoded data removed]",
      "text/plain": [
       "<Figure size 432x288 with 1 Axes>"
      ]
     },
     "metadata": {
      "needs_background": "light"
     },
     "output_type": "display_data"
    }
   ],
   "source": [
    "train_dataset = TensorDataset(train_inputs, train_targets)\n",
    "test_dataset = TensorDataset(test_inputs, test_targets)\n",
    "\n",
    "train_loader = DataLoader(dataset=train_dataset, batch_size=BATCH_SIZE, shuffle=False)\n",
    "test_loader = DataLoader(dataset=test_dataset, batch_size=BATCH_SIZE, shuffle=False)\n",
    "\n",
    "\n",
    "model = PricePredictor(minmax_scaler,BATCH_SIZE).to(device)\n",
    "loss_function = nn.MSELoss()\n",
    "# loss_function = nn.L1Loss()\n",
    "# optimizer = torch.optim.Adagrad(model.parameters(), lr=0.0001)\n",
    "optimizer = torch.optim.Adam(model.parameters(), lr=0.0005)\n",
    "\n",
    "epochs = 80\n",
    "test_losses = []\n",
    "\n",
    "for i in range(epochs):\n",
    "    for seq, targets in train_loader:\n",
    "        if seq.shape[0]!=BATCH_SIZE: # if the last batch is not full\n",
    "            continue\n",
    "        seq, targets = seq.to(device), targets.to(device)\n",
    "        optimizer.zero_grad()\n",
    "        y_pred = model(seq)\n",
    "        single_loss = loss_function(y_pred, targets)\n",
    "        single_loss.backward()\n",
    "        optimizer.step()\n",
    "\n",
    "    if(i%5==0):\n",
    "        # print the test loss\n",
    "        with torch.no_grad():\n",
    "            model.remember = True  # remember the last state of the cell\n",
    "            test_loss_ = 0\n",
    "            for seq_, targets_ in test_loader:\n",
    "                if(seq_.shape[0]!=BATCH_SIZE): # if the last batch is not full\n",
    "                    continue\n",
    "                seq_, targets_ = seq_.to(device), targets_.to(device)\n",
    "                y_pred_test = model(seq_)\n",
    "                test_loss_ += loss_function(y_pred_test, targets_)\n",
    "                # print(y_pred_test.shape)\n",
    "            print(f'Test loss: {test_loss_.item():10.8f}')\n",
    "            test_losses.append(test_loss_.item())\n",
    "            if early_stopping(test_losses, patience=3):\n",
    "                break \n",
    "            model.remember = False # forget the last state of the cell for further training\n",
    "    \n",
    "\n",
    "# ====================== Plot ========================\n",
    "model.remember = True\n",
    "actual_prices = []\n",
    "predictions = []\n",
    "with torch.no_grad():\n",
    "    test_loss = 0\n",
    "    for seq, targets in test_loader:\n",
    "        seq, targets = seq.to(device), targets.to(device)\n",
    "        if seq.shape[0]!=BATCH_SIZE: # if the last batch is not full\n",
    "            continue\n",
    "        y_pred = model(seq)\n",
    "        targets = targets.cpu().numpy()\n",
    "        y_pred = y_pred.cpu().numpy()\n",
    "        actual_prices.extend(targets.flatten())\n",
    "        predictions.extend(y_pred.flatten())\n",
    "    \n",
    "\n",
    "\n",
    "actual_prices = np.array(actual_prices)\n",
    "predictions = np.array(predictions)\n",
    "x = np.arange(len(actual_prices))\n",
    "\n",
    "plt.plot(x,actual_prices, label=\"actual\")\n",
    "plt.plot(x,predictions, label=\"predictions\")\n",
    "plt.legend()\n",
    "plt.show()\n"
   ]
  },
  {
   "cell_type": "code",
   "execution_count": null,
   "metadata": {},
   "outputs": [],
   "source": [
    "# torch.save(model.state_dict(), 'files/lstm_adagrad.pth')"
   ]
  }
 ],
 "metadata": {
  "kernelspec": {
   "display_name": "Python 3 (ipykernel)",
   "language": "python",
   "name": "python3"
  },
  "language_info": {
   "codemirror_mode": {
    "name": "ipython",
    "version": 3
   },
   "file_extension": ".py",
   "mimetype": "text/x-python",
   "name": "python",
   "nbconvert_exporter": "python",
   "pygments_lexer": "ipython3",
   "version": "3.10.12"
  }
 },
 "nbformat": 4,
 "nbformat_minor": 4
}
