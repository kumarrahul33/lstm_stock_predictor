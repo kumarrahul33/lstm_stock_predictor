{
 "cells": [
  {
   "cell_type": "code",
   "execution_count": null,
   "metadata": {},
   "outputs": [],
   "source": [
    "import torch\n",
    "import torch.nn as nn\n",
    "from torch.utils.data import DataLoader, TensorDataset\n",
    "import pandas as pd\n",
    "import numpy as np\n",
    "import random"
   ]
  },
  {
   "cell_type": "code",
   "execution_count": null,
   "metadata": {},
   "outputs": [],
   "source": [
    "def scale_data(data):\n",
    "    num_features = data.shape[1]\n",
    "    scale_params = np.zeros((num_features,2))\n",
    "    mins = np.min(data, axis=0);maxes=np.max(data, axis=0)\n",
    "    data = (data - mins) / (maxes - mins)\n",
    "    # for i in range(num_features):\n",
    "    #     min_val = np.min(data[:,i])\n",
    "    #     max_val = np.max(data[:,i])\n",
    "    #     scale_params[i,:] = [min_val, max_val]\n",
    "    #     data[:,i] = (data[:,i] - min_val) / (max_val - min_val)\n",
    "    return data, scale_params\n",
    "\n",
    "data_df = pd.read_csv(\"data/final_dataset.csv\")\n",
    "\n",
    "data_df = data_df.drop(['Date'], axis=1)\n",
    "data_df = data_df.iloc[-200:,:]\n",
    "print(data_df.head())\n",
    "data = np.nan_to_num(np.array(data_df, dtype=np.float32))\n",
    "print(np.isnan(data).any().item())\n",
    "data, scale_params = scale_data(data)\n",
    "print(np.isnan(data).any().item())\n",
    "# data, scale_params = scale_data(np.nan_to_num(np.array(data_df, dtype=np.float32)))\n",
    "# print(data.shape)"
   ]
  },
  {
   "cell_type": "code",
   "execution_count": null,
   "metadata": {},
   "outputs": [],
   "source": [
    "def create_sequence(data,seq_len):\n",
    "    xs = []\n",
    "    ys = []\n",
    "    for i in range(len(data)-seq_len-1):\n",
    "        x = data[i:(i+seq_len),:]\n",
    "        # print(x.shape)\n",
    "        y = data[i+seq_len,0]\n",
    "        xs.append(x)\n",
    "        ys.append(y)\n",
    "    return np.array(xs),np.array(ys)\n",
    "\n",
    "SEQ_LEN = 5\n",
    "inputs , targets = create_sequence(data,SEQ_LEN)\n",
    "inputs=torch.from_numpy(inputs);targets=torch.from_numpy(targets)\n",
    "print(inputs.shape)\n",
    "print(targets.shape)"
   ]
  },
  {
   "cell_type": "code",
   "execution_count": null,
   "metadata": {},
   "outputs": [],
   "source": [
    "\n",
    "class PricePredictor(nn.Module):\n",
    "    def __init__(self, input_size=12, hidden_layer_size=30, time_segment=5, output_size=1):\n",
    "        super().__init__()\n",
    "        self.hidden_layer_size = hidden_layer_size\n",
    "        self.time_segment_length = time_segment\n",
    "        self.lstm = nn.LSTM(input_size, hidden_layer_size)\n",
    "        self.linear = nn.Linear(hidden_layer_size, output_size)\n",
    "        # self.cell_double = (torch.zeros(1,self.hidden_layer_size), torch.zeros(1,self.hidden_layer_size))\n",
    "\n",
    "    def forward(self, input_seq):\n",
    "        _, cell_double = self.lstm(input_seq)\n",
    "        # print(cell_double)\n",
    "        predictions = self.linear(cell_double[0])\n",
    "        # print(predictions.shape)\n",
    "        return predictions\n"
   ]
  },
  {
   "cell_type": "code",
   "execution_count": null,
   "metadata": {},
   "outputs": [],
   "source": [
    "BATCH_SIZE = 1\n",
    "dataset = TensorDataset(inputs,targets)\n",
    "train_dataset, test_dataset = torch.utils.data.random_split(dataset, [int(0.8*len(dataset)), len(dataset) - int(0.8*len(dataset))])\n",
    "\n",
    "train_loader = DataLoader(dataset=train_dataset, batch_size=BATCH_SIZE, shuffle=True)\n",
    "test_loader = DataLoader(dataset=test_dataset, batch_size=BATCH_SIZE, shuffle=True)\n",
    "\n",
    "model = PricePredictor()\n",
    "loss_function = nn.MSELoss()\n",
    "optimizer = torch.optim.Adam(model.parameters(), lr=0.001)\n",
    "\n",
    "epochs = 194 \n",
    "for i in range(epochs):\n",
    "    # model.cell_double = (torch.zeros(1,model.hidden_layer_size), torch.zeros(1,model.hidden_layer_size))\n",
    "    for seq, labels in train_loader:\n",
    "        if not torch.isnan(seq).any().item():\n",
    "            print(\"Voila\")\n",
    "        y_pred = model(seq)\n",
    "        # print(y_pred)\n",
    "        single_loss = loss_function(y_pred, labels)\n",
    "        # optimizer.zero_grad()\n",
    "        single_loss.backward()\n",
    "        # optimizer.step()\n",
    "    if random.random() < 0.1:\n",
    "        print(f'epoch: {i:3} loss: {single_loss.item():10.8f}')\n",
    "\n",
    "    # if(i%5==0):\n",
    "\n",
    "    #     print(f'epoch: {i:3} loss: {single_loss.item():10.10f}')"
   ]
  }
 ],
 "metadata": {
  "kernelspec": {
   "display_name": "Python 3",
   "language": "python",
   "name": "python3"
  },
  "language_info": {
   "codemirror_mode": {
    "name": "ipython",
    "version": 3
   },
   "file_extension": ".py",
   "mimetype": "text/x-python",
   "name": "python",
   "nbconvert_exporter": "python",
   "pygments_lexer": "ipython3",
   "version": "3.10.12"
  }
 },
 "nbformat": 4,
 "nbformat_minor": 2
}
