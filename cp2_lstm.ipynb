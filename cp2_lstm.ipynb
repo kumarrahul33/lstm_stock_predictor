{
 "cells": [
  {
   "cell_type": "code",
   "execution_count": 19,
   "metadata": {},
   "outputs": [],
   "source": [
    "# DATA Segment\n",
    "import torch\n",
    "import torch.nn as nn\n",
    "from torch.utils.data import DataLoader, TensorDataset\n",
    "import pandas as pd\n",
    "import numpy as np\n",
    "import random\n",
    "import matplotlib.pyplot as plt\n",
    "from scaler import StandardScalerLSTM\n",
    "from model_lstm import PricePredictor, Traning\n",
    "from run_lstm import get_minmax\n",
    "\n",
    "SEQ_LEN = 8\n",
    "BATCH_SIZE = 16\n",
    "FEATURE_SIZE = 12"
   ]
  },
  {
   "cell_type": "code",
   "execution_count": 20,
   "metadata": {},
   "outputs": [
    {
     "name": "stdout",
     "output_type": "stream",
     "text": [
      "cpu\n"
     ]
    }
   ],
   "source": [
    "if(torch.cuda.is_available()):\n",
    "    device = torch.device(\"cuda\")\n",
    "else:\n",
    "    device = torch.device(\"cpu\")\n",
    "device = torch.device(\"cpu\")\n",
    "print(device)"
   ]
  },
  {
   "cell_type": "code",
   "execution_count": 21,
   "metadata": {},
   "outputs": [
    {
     "data": {
      "text/plain": [
       "PricePredictor(\n",
       "  (lstm): LSTM(9, 150, batch_first=True)\n",
       "  (linear): Linear(in_features=150, out_features=1, bias=True)\n",
       "  (ReLU): ReLU()\n",
       ")"
      ]
     },
     "execution_count": 21,
     "metadata": {},
     "output_type": "execute_result"
    }
   ],
   "source": [
    "# device = 'cpu'\n",
    "path = 'files/lstm_adagrad.pth'\n",
    "minmax_scaler = get_minmax(device)\n",
    "model = PricePredictor(minmax_scaler,BATCH_SIZE,device=device).to(device)\n",
    "model.load_state_dict(torch.load(path))\n",
    "model.eval()"
   ]
  },
  {
   "cell_type": "code",
   "execution_count": 22,
   "metadata": {},
   "outputs": [],
   "source": [
    "from run_lstm import make_loaders\n",
    "train_loader,test_loader = make_loaders(batch_size=1)"
   ]
  },
  {
   "cell_type": "code",
   "execution_count": 23,
   "metadata": {},
   "outputs": [],
   "source": [
    "# loss_function = nn.MSELoss()\n",
    "# optimizer = torch.optim.Adam(model.parameters(), lr=0.0005)\n",
    "# epochs = 80\n",
    "# # model = PricePredictor(minmax_scaler,BATCH_SIZE,device=device).to(device)\n",
    "# trainer = Traning(model, loss_function, optimizer, train_loader, test_loader, epochs=epochs,device=device)\n",
    "# trainer.train()\n",
    "# trainer.test()\n",
    "# trainer.save(\"kanad\")"
   ]
  },
  {
   "cell_type": "code",
   "execution_count": 24,
   "metadata": {},
   "outputs": [],
   "source": [
    "# torch.save(model.state_dict(), f\"files/kanad_1.pth\")"
   ]
  },
  {
   "cell_type": "code",
   "execution_count": 25,
   "metadata": {},
   "outputs": [],
   "source": [
    "import torch\n",
    "import torch.nn as nn\n",
    "import torch.optim as optim\n",
    "import numpy as np\n",
    "import random\n",
    "from collections import deque\n",
    "\n",
    "class MyModel(nn.Module):\n",
    "    def __init__(self, state_size, action_size):\n",
    "        super().__init__()\n",
    "        self.fc1 = nn.Linear(state_size, 64)\n",
    "        self.fc2 = nn.Linear(64, 32)\n",
    "        self.fc3 = nn.Linear(32, 8)\n",
    "        self.fc4 = nn.Linear(8, action_size)\n",
    "\n",
    "    def forward(self, x):\n",
    "        x = torch.relu(self.fc1(x))\n",
    "        x = torch.relu(self.fc2(x))\n",
    "        x = torch.relu(self.fc3(x))\n",
    "        x = self.fc4(x)\n",
    "        return x\n",
    "\n",
    "class Agent:\n",
    "    def __init__(self, state_size, is_eval=False, model_name=\"\"):\n",
    "        self.state_size = state_size\n",
    "        self.action_size = 3  # sit, buy, sell\n",
    "        self.memory = deque(maxlen=1000)\n",
    "        self.inventory = []\n",
    "        self.model_name = model_name\n",
    "        self.is_eval = is_eval\n",
    "\n",
    "        self.gamma = 0.95\n",
    "        self.epsilon = 1.0\n",
    "        self.epsilon_min = 0.01\n",
    "        self.epsilon_decay = 0.995\n",
    "\n",
    "        self.model = MyModel(self.state_size, self.action_size).to(device)\n",
    "        self.optimizer = optim.Adam(self.model.parameters(), lr=0.001)\n",
    "        self.criterion = nn.MSELoss()\n",
    "\n",
    "        # if is_eval:\n",
    "        #     self.model.load_state_dict(torch.load(model_name))\n",
    "        #     self.model.eval()\n",
    "        # else:\n",
    "        #     self.model = model\n",
    "\n",
    "    def act(self, state):\n",
    "        if not self.is_eval and random.random() <= self.epsilon:\n",
    "            return random.randrange(self.action_size)\n",
    "        state = torch.tensor(state, dtype=torch.float32).unsqueeze(0)\n",
    "        with torch.no_grad():\n",
    "            options = self.model(state)\n",
    "        return torch.argmax(options, dim=1).item()\n",
    "\n",
    "    def expReplay(self, batch_size):\n",
    "        mini_batch = []\n",
    "        l = len(self.memory)\n",
    "        for i in range(l - batch_size + 1, l):\n",
    "            mini_batch.append(self.memory[i])\n",
    "\n",
    "        for state, action, reward, next_state, done in mini_batch:\n",
    "            state = torch.tensor(state, dtype=torch.float32)\n",
    "            next_state = torch.tensor(next_state, dtype=torch.float32)\n",
    "            action = torch.tensor([action], dtype=torch.int64)\n",
    "            reward = torch.tensor([reward], dtype=torch.float32)\n",
    "\n",
    "            if not done:\n",
    "                target = reward.to(device) + self.gamma * torch.max(self.model(next_state).detach()).to(device)\n",
    "            else:\n",
    "                target = reward.to(device)\n",
    "\n",
    "            # Get the output for all actions\n",
    "            target_f = self.model(state)\n",
    "            target_f[0][0][action] = target\n",
    "\n",
    "            # Zero the parameter gradients\n",
    "            self.optimizer.zero_grad()\n",
    "            # Forward + backward + optimize\n",
    "            loss = self.criterion(target_f, self.model(state))\n",
    "            loss.backward()\n",
    "            self.optimizer.step()\n",
    "\n",
    "        if self.epsilon > self.epsilon_min:\n",
    "            self.epsilon *= self.epsilon_decay\n"
   ]
  },
  {
   "cell_type": "code",
   "execution_count": 26,
   "metadata": {},
   "outputs": [],
   "source": [
    "def formatPrice(n):\n",
    "    return(\"-Rs.\" if n<0 else \"Rs.\")+\"{0:.2f}\".format(abs(n))"
   ]
  },
  {
   "cell_type": "code",
   "execution_count": null,
   "metadata": {},
   "outputs": [],
   "source": []
  },
  {
   "cell_type": "code",
   "execution_count": 29,
   "metadata": {},
   "outputs": [
    {
     "name": "stdout",
     "output_type": "stream",
     "text": [
      "Episode 0/100\n",
      "Buy: Rs.1520.77\n",
      "Buy: Rs.1492.25\n",
      "Sell: Rs.1502.51 | Profit: -Rs.18.26\n",
      "Sell: Rs.1489.26 | Profit: -Rs.2.99\n",
      "Buy: Rs.1451.34\n",
      "Buy: Rs.1449.05\n",
      "Buy: Rs.1448.72\n",
      "Buy: Rs.1439.03\n",
      "Sell: Rs.1436.51 | Profit: -Rs.14.83\n",
      "Buy: Rs.1436.23\n",
      "Sell: Rs.1426.46 | Profit: -Rs.22.59\n",
      "Sell: Rs.1434.32 | Profit: -Rs.14.40\n",
      "Buy: Rs.1408.99\n",
      "Buy: Rs.1402.03\n",
      "Sell: Rs.1364.59 | Profit: -Rs.74.44\n",
      "Sell: Rs.1329.78 | Profit: -Rs.106.45\n",
      "Sell: Rs.1374.17 | Profit: -Rs.34.82\n",
      "Sell: Rs.1374.62 | Profit: -Rs.27.41\n",
      "Buy: Rs.1349.97\n",
      "Sell: Rs.1388.76 | Profit: Rs.38.79\n",
      "Buy: Rs.1396.93\n",
      "Buy: Rs.1395.78\n"
     ]
    },
    {
     "name": "stderr",
     "output_type": "stream",
     "text": [
      "/tmp/ipykernel_30081/169715604.py:62: UserWarning: To copy construct from a tensor, it is recommended to use sourceTensor.clone().detach() or sourceTensor.clone().detach().requires_grad_(True), rather than torch.tensor(sourceTensor).\n",
      "  state = torch.tensor(state, dtype=torch.float32)\n",
      "/tmp/ipykernel_30081/169715604.py:63: UserWarning: To copy construct from a tensor, it is recommended to use sourceTensor.clone().detach() or sourceTensor.clone().detach().requires_grad_(True), rather than torch.tensor(sourceTensor).\n",
      "  next_state = torch.tensor(next_state, dtype=torch.float32)\n",
      "/tmp/ipykernel_30081/169715604.py:50: UserWarning: To copy construct from a tensor, it is recommended to use sourceTensor.clone().detach() or sourceTensor.clone().detach().requires_grad_(True), rather than torch.tensor(sourceTensor).\n",
      "  state = torch.tensor(state, dtype=torch.float32).unsqueeze(0)\n"
     ]
    },
    {
     "ename": "RuntimeError",
     "evalue": "a Tensor with 3 elements cannot be converted to Scalar",
     "output_type": "error",
     "traceback": [
      "\u001b[0;31m---------------------------------------------------------------------------\u001b[0m",
      "\u001b[0;31mRuntimeError\u001b[0m                              Traceback (most recent call last)",
      "\u001b[1;32m/home/rahulkumar/code/iitb_cs/ml_lab/project/lstm_stock_predictor/cp2_lstm.ipynb Cell 10\u001b[0m line \u001b[0;36m2\n\u001b[1;32m     <a href='vscode-notebook-cell:/home/rahulkumar/code/iitb_cs/ml_lab/project/lstm_stock_predictor/cp2_lstm.ipynb#X11sZmlsZQ%3D%3D?line=19'>20</a>\u001b[0m     action \u001b[39m=\u001b[39m \u001b[39m1\u001b[39m\n\u001b[1;32m     <a href='vscode-notebook-cell:/home/rahulkumar/code/iitb_cs/ml_lab/project/lstm_stock_predictor/cp2_lstm.ipynb#X11sZmlsZQ%3D%3D?line=20'>21</a>\u001b[0m \u001b[39melse\u001b[39;00m:\n\u001b[0;32m---> <a href='vscode-notebook-cell:/home/rahulkumar/code/iitb_cs/ml_lab/project/lstm_stock_predictor/cp2_lstm.ipynb#X11sZmlsZQ%3D%3D?line=21'>22</a>\u001b[0m     action \u001b[39m=\u001b[39m agent\u001b[39m.\u001b[39;49mact(state)\n\u001b[1;32m     <a href='vscode-notebook-cell:/home/rahulkumar/code/iitb_cs/ml_lab/project/lstm_stock_predictor/cp2_lstm.ipynb#X11sZmlsZQ%3D%3D?line=22'>23</a>\u001b[0m pred_price, next_state \u001b[39m=\u001b[39m model\u001b[39m.\u001b[39mhidden_predict(seq)\n\u001b[1;32m     <a href='vscode-notebook-cell:/home/rahulkumar/code/iitb_cs/ml_lab/project/lstm_stock_predictor/cp2_lstm.ipynb#X11sZmlsZQ%3D%3D?line=23'>24</a>\u001b[0m reward \u001b[39m=\u001b[39m \u001b[39m0\u001b[39m\n",
      "\u001b[1;32m/home/rahulkumar/code/iitb_cs/ml_lab/project/lstm_stock_predictor/cp2_lstm.ipynb Cell 10\u001b[0m line \u001b[0;36m5\n\u001b[1;32m     <a href='vscode-notebook-cell:/home/rahulkumar/code/iitb_cs/ml_lab/project/lstm_stock_predictor/cp2_lstm.ipynb#X11sZmlsZQ%3D%3D?line=50'>51</a>\u001b[0m \u001b[39mwith\u001b[39;00m torch\u001b[39m.\u001b[39mno_grad():\n\u001b[1;32m     <a href='vscode-notebook-cell:/home/rahulkumar/code/iitb_cs/ml_lab/project/lstm_stock_predictor/cp2_lstm.ipynb#X11sZmlsZQ%3D%3D?line=51'>52</a>\u001b[0m     options \u001b[39m=\u001b[39m \u001b[39mself\u001b[39m\u001b[39m.\u001b[39mmodel(state)\n\u001b[0;32m---> <a href='vscode-notebook-cell:/home/rahulkumar/code/iitb_cs/ml_lab/project/lstm_stock_predictor/cp2_lstm.ipynb#X11sZmlsZQ%3D%3D?line=52'>53</a>\u001b[0m \u001b[39mreturn\u001b[39;00m torch\u001b[39m.\u001b[39;49margmax(options, dim\u001b[39m=\u001b[39;49m\u001b[39m1\u001b[39;49m)\u001b[39m.\u001b[39;49mitem()\n",
      "\u001b[0;31mRuntimeError\u001b[0m: a Tensor with 3 elements cannot be converted to Scalar"
     ]
    }
   ],
   "source": [
    "\n",
    "\n",
    "\n",
    "window_size = 150\n",
    "episode_count = 100\n",
    "agent = Agent(window_size)\n",
    "# data = getStockDataVec(stock_name)\n",
    "# data = inputs\n",
    "batch_size = 32\n",
    "for e in range(episode_count + 1):\n",
    "    print(\"Episode \" + str(e) + \"/\" + str(episode_count))\n",
    "    # state = getState(data, 0, window_size + 1)\n",
    "    state = None\n",
    "    total_profit = 0\n",
    "    agent.inventory = []\n",
    "    \n",
    "    t = len(train_loader)\n",
    "    count = 0\n",
    "    for seq, targets in train_loader:\n",
    "        count = count + 1\n",
    "        seq, targets = seq.to(device), targets.to(device)\n",
    "        if state is None:\n",
    "            action = 1\n",
    "        else:\n",
    "            action = agent.act(state)\n",
    "        pred_price, next_state = model.hidden_predict(seq)\n",
    "        reward = 0\n",
    "        if action == 1: # buy\n",
    "            agent.inventory.append(targets)\n",
    "            print(\"Buy: \" + formatPrice(targets.item()))\n",
    "        elif action == 2 and len(agent.inventory) > 0: # sell\n",
    "            bought_price = window_size_price = agent.inventory.pop(0)\n",
    "            reward = max(targets - bought_price, 0)\n",
    "            total_profit += targets - bought_price\n",
    "            print(\"Sell: \" + formatPrice(targets.item()) + \" | Profit: \" + formatPrice(targets.item() - bought_price.item()))\n",
    "        done = True if count == t else False\n",
    "        agent.memory.append((state, action, reward, next_state, done))\n",
    "        state = next_state\n",
    "        if done:\n",
    "            print(\"--------------------------------\")\n",
    "            print(\"Total Profit: \" + formatPrice(total_profit.item()))\n",
    "            print(\"--------------------------------\")\n",
    "        if len(agent.memory) > batch_size:\n",
    "            agent.expReplay(batch_size)\n",
    "    if e % 10 == 0:\n",
    "        agent.model.save(str(e))\n",
    "\n"
   ]
  },
  {
   "cell_type": "code",
   "execution_count": null,
   "metadata": {},
   "outputs": [],
   "source": [
    "\n",
    "\n",
    "\n",
    "# window_size = 150\n",
    "# episode_count = 100\n",
    "# agent = Agent(window_size)\n",
    "# # data = getStockDataVec(stock_name)\n",
    "# data = inputs\n",
    "# batch_size = 32\n",
    "# for e in range(episode_count + 1):\n",
    "#     print(\"Episode \" + str(e) + \"/\" + str(episode_count))\n",
    "#     # state = getState(data, 0, window_size + 1)\n",
    "#     state = None\n",
    "#     total_profit = 0\n",
    "#     agent.inventory = []\n",
    "    \n",
    "#     t = len(train_loader)\n",
    "#     for seq, targets in train_loader:\n",
    "#         seq, targets = seq.to(device), targets.to(device)\n",
    "#         if state is None:\n",
    "#             action = 1\n",
    "#         else:\n",
    "#             action = agent.act(state)\n",
    "#         pred_price, next_state = model.hidden_predict(seq)\n",
    "#         reward = 0\n",
    "#         if action == 1: # buy\n",
    "#             agent.inventory.append(targets)\n",
    "#             print(\"Buy: \" + formatPrice(targets.item()))\n",
    "#         elif action == 2 and len(agent.inventory) > 0: # sell\n",
    "#             bought_price = window_size_price = agent.inventory.pop(0)\n",
    "#             reward = max(targets - bought_price, 0)\n",
    "#             total_profit += targets - bought_price\n",
    "#             print(\"Sell: \" + formatPrice(targets.item()) + \" | Profit: \" + formatPrice(targets.item() - bought_price.item()))\n",
    "#         done = True if count == t else False\n",
    "#         agent.memory.append((state, action, reward, next_state, done))\n",
    "#         state = next_state\n",
    "#         if done:\n",
    "#             print(\"--------------------------------\")\n",
    "#             print(\"Total Profit: \" + formatPrice(total_profit.item()))\n",
    "#             print(\"--------------------------------\")\n",
    "#         if len(agent.memory) > batch_size:\n",
    "#             agent.expReplay(batch_size)\n",
    "#     if e % 10 == 0:\n",
    "#         agent.model.save(str(e))\n",
    "\n"
   ]
  }
 ],
 "metadata": {
  "kernelspec": {
   "display_name": "Python 3 (ipykernel)",
   "language": "python",
   "name": "python3"
  },
  "language_info": {
   "codemirror_mode": {
    "name": "ipython",
    "version": 3
   },
   "file_extension": ".py",
   "mimetype": "text/x-python",
   "name": "python",
   "nbconvert_exporter": "python",
   "pygments_lexer": "ipython3",
   "version": "3.10.12"
  }
 },
 "nbformat": 4,
 "nbformat_minor": 4
}
